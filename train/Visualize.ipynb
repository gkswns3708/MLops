{
 "cells": [
  {
   "cell_type": "code",
   "execution_count": 1,
   "metadata": {},
   "outputs": [],
   "source": [
    "import numpy as np\n",
    "import pandas as pd\n",
    "import cv2\n",
    "import random\n",
    "import matplotlib.pyplot as plt\n",
    "import matplotlib as mpl\n",
    "import matplotlib.font_manager as fm\n",
    "\n",
    "from tqdm import tqdm\n",
    "from glob import glob\n",
    "import os\n",
    "import os.path as osp\n",
    "import json\n",
    "from pprint import pprint\n",
    "from collections import Counter\n",
    "\n",
    "import torch\n",
    "from torch import nn\n",
    "from torchvision import models\n",
    "from torch.utils.data import Dataset\n",
    "from sklearn.metrics import f1_score\n",
    "from sklearn.model_selection import StratifiedKFold"
   ]
  },
  {
   "cell_type": "code",
   "execution_count": 2,
   "metadata": {},
   "outputs": [],
   "source": [
    "# Visualization with matplotlib\n",
    "def Viz_image(raw_image: str, prepared_image: str):\n",
    "    raw_img = cv2.imread(raw_image)\n",
    "    raw_img = cv2.cvtColor(raw_img, cv2.COLOR_BGR2RGB)\n",
    "    prepared_img = cv2.imread(prepared_image)\n",
    "\n",
    "    fig, axs = plt.subplots(1,2 ,figsize = (12,6))\n",
    "    axs[0].imshow(raw_img)\n",
    "    axs[0].set_title('Raw_Image')\n",
    "\n",
    "    axs[1].imshow(prepared_img)\n",
    "    axs[1].set_title('Prepared_Image')\n",
    "\n",
    "    plt.show()"
   ]
  },
  {
   "cell_type": "code",
   "execution_count": null,
   "metadata": {},
   "outputs": [],
   "source": []
  }
 ],
 "metadata": {
  "interpreter": {
   "hash": "41dac6b197742934d933ac5beeed27df1f48255da5451d7725efde7c8f37fd42"
  },
  "kernelspec": {
   "display_name": "Python 3.9.7 ('MLops')",
   "language": "python",
   "name": "python3"
  },
  "language_info": {
   "codemirror_mode": {
    "name": "ipython",
    "version": 3
   },
   "file_extension": ".py",
   "mimetype": "text/x-python",
   "name": "python",
   "nbconvert_exporter": "python",
   "pygments_lexer": "ipython3",
   "version": "3.9.7"
  },
  "orig_nbformat": 4
 },
 "nbformat": 4,
 "nbformat_minor": 2
}
