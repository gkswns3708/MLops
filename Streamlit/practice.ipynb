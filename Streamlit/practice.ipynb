{
 "cells": [
  {
   "cell_type": "code",
   "execution_count": 1,
   "metadata": {},
   "outputs": [],
   "source": [
    "import json\n",
    "from pprint import pprint\n",
    "from glob import glob\n",
    "import os.path as osp"
   ]
  },
  {
   "cell_type": "code",
   "execution_count": 35,
   "metadata": {},
   "outputs": [],
   "source": [
    "def make_label_encoder_decoder(save_path):\n",
    "    path_list = sorted(glob(osp.join(save_path, '*/*.json')))\n",
    "    with open(\"config.json\") as f:\n",
    "        config = json.load(f)\n",
    "    crop_dict = config['Annotation_info']['crop_dict']\n",
    "    disease_dict = config['Annotation_info']['disease_dict']\n",
    "    risk_dict = config['Annotation_info']['risk_dict']\n",
    "    area_dict = config['Annotation_info']['area_dict']\n",
    "    grow_dict = config['Annotation_info']['grow_dict']\n",
    "    label_set = set()\n",
    "    all_label_set = set()\n",
    "    for idx, path in enumerate(path_list):\n",
    "        now_json = json.load(open(path,'r'))\n",
    "        now_crop = crop_dict[str(now_json['annotations']['crop'])]\n",
    "        now_disease = disease_dict[str(now_json['annotations']['disease'])]\n",
    "        now_risk = risk_dict[str(now_json['annotations']['risk'])] \n",
    "        now_area = area_dict[str(now_json['annotations']['area'])]\n",
    "        now_grow = grow_dict[str(now_json['annotations']['grow'])]\n",
    "        label_set.add(now_crop + '_' + now_disease + '_' + now_risk)\n",
    "        all_label_set.add(now_crop + '_' + now_disease + '_' + now_risk + '_' + now_area + '_' + now_grow)\n",
    "    label_encoder = {key:idx for idx, key in enumerate(sorted(label_set))}\n",
    "    label_decoder = {val:key for key, val in label_encoder.items()}\n",
    "    all_label_encoder = {key:idx for idx, key in enumerate(sorted(all_label_set))}\n",
    "    all_label_decoder = {val:key for key, val in all_label_encoder.items()}\n",
    "    # 즉 여기서 해야하는건 원래 있는 config['Annotation_info']['label_encoder']를 바꿔야함.\n",
    "    # 기존의 것을 가져온 뒤(config) config['Annotation_info']['label_encoder'] 들을 바꿔야함.\n",
    "    config['Annotation_info']['label_encoder'] = label_encoder\n",
    "    config['Annotation_info']['label_decoder'] = label_decoder\n",
    "    config['Annotation_info']['all_label_encoder'] = all_label_encoder\n",
    "    config['Annotation_info']['all_label_decoder'] = all_label_decoder\n",
    "    with open('config.json' , 'w') as f:\n",
    "        f.write(json.dumps(config, ensure_ascii=False))\n",
    "    return label_encoder, label_decoder,all_label_encoder, all_label_decoder"
   ]
  },
  {
   "cell_type": "code",
   "execution_count": 33,
   "metadata": {},
   "outputs": [],
   "source": [
    "with open(\"config.json\") as f:\n",
    "        config = json.load(f)"
   ]
  },
  {
   "cell_type": "code",
   "execution_count": 34,
   "metadata": {},
   "outputs": [
    {
     "name": "stdout",
     "output_type": "stream",
     "text": [
      "({'고추_고추탄저병-1_중기': 0,\n",
      "  '고추_다량원소결핍 (K)-2_초기': 1,\n",
      "  '고추_다량원소결핍 (N)-2_초기': 2,\n",
      "  '고추_다량원소결핍 (P)-2_초기': 3,\n",
      "  '고추_정상_정상': 4,\n",
      "  '딸기_정상_정상': 5,\n",
      "  '시설포도_시설포도노균병-1_중기': 6,\n",
      "  '시설포도_시설포도노균병-1_초기': 7,\n",
      "  '시설포도_시설포도탄저병-1_중기': 8,\n",
      "  '시설포도_시설포도탄저병-1_초기': 9,\n",
      "  '시설포도_일소피해-2_말기': 10,\n",
      "  '시설포도_일소피해-2_초기': 11,\n",
      "  '시설포도_정상_정상': 12,\n",
      "  '시설포도_축과병-2_초기': 13,\n",
      "  '오이_정상_정상': 14,\n",
      "  '토마토_정상_정상': 15,\n",
      "  '토마토_토마토흰가루병-1_중기': 16,\n",
      "  '파프리카_다량원소결핍 (K)-2_초기': 17,\n",
      "  '파프리카_다량원소결핍 (N)-2_초기': 18,\n",
      "  '파프리카_다량원소결핍 (P)-2_초기': 19,\n",
      "  '파프리카_정상_정상': 20,\n",
      "  '파프리카_칼슘결핍-2_초기': 21,\n",
      "  '파프리카_파프리카흰가루병-1_말기': 22,\n",
      "  '파프리카_파프리카흰가루병-1_중기': 23,\n",
      "  '파프리카_파프리카흰가루병-1_초기': 24},\n",
      " {0: '고추_고추탄저병-1_중기',\n",
      "  1: '고추_다량원소결핍 (K)-2_초기',\n",
      "  2: '고추_다량원소결핍 (N)-2_초기',\n",
      "  3: '고추_다량원소결핍 (P)-2_초기',\n",
      "  4: '고추_정상_정상',\n",
      "  5: '딸기_정상_정상',\n",
      "  6: '시설포도_시설포도노균병-1_중기',\n",
      "  7: '시설포도_시설포도노균병-1_초기',\n",
      "  8: '시설포도_시설포도탄저병-1_중기',\n",
      "  9: '시설포도_시설포도탄저병-1_초기',\n",
      "  10: '시설포도_일소피해-2_말기',\n",
      "  11: '시설포도_일소피해-2_초기',\n",
      "  12: '시설포도_정상_정상',\n",
      "  13: '시설포도_축과병-2_초기',\n",
      "  14: '오이_정상_정상',\n",
      "  15: '토마토_정상_정상',\n",
      "  16: '토마토_토마토흰가루병-1_중기',\n",
      "  17: '파프리카_다량원소결핍 (K)-2_초기',\n",
      "  18: '파프리카_다량원소결핍 (N)-2_초기',\n",
      "  19: '파프리카_다량원소결핍 (P)-2_초기',\n",
      "  20: '파프리카_정상_정상',\n",
      "  21: '파프리카_칼슘결핍-2_초기',\n",
      "  22: '파프리카_파프리카흰가루병-1_말기',\n",
      "  23: '파프리카_파프리카흰가루병-1_중기',\n",
      "  24: '파프리카_파프리카흰가루병-1_초기'},\n",
      " {'고추_고추탄저병-1_중기_열매_착화/과실기': 0,\n",
      "  '고추_다량원소결핍 (K)-2_초기_잎_착화/과실기': 1,\n",
      "  '고추_다량원소결핍 (N)-2_초기_잎_착화/과실기': 2,\n",
      "  '고추_다량원소결핍 (P)-2_초기_잎_유모기': 3,\n",
      "  '고추_정상_정상_열매_생장기': 4,\n",
      "  '고추_정상_정상_잎_생장기': 5,\n",
      "  '딸기_정상_정상_잎_생장기': 6,\n",
      "  '딸기_정상_정상_잎_유모기': 7,\n",
      "  '시설포도_시설포도노균병-1_중기_잎_과실성숙기': 8,\n",
      "  '시설포도_시설포도노균병-1_초기_잎_과실성숙기': 9,\n",
      "  '시설포도_시설포도탄저병-1_중기_열매_과실성숙기': 10,\n",
      "  '시설포도_시설포도탄저병-1_초기_열매_과실성숙기': 11,\n",
      "  '시설포도_일소피해-2_말기_잎_과실성숙기': 12,\n",
      "  '시설포도_일소피해-2_초기_잎_과실성숙기': 13,\n",
      "  '시설포도_정상_정상_가지_과실성숙기': 14,\n",
      "  '시설포도_정상_정상_열매_과실성숙기': 15,\n",
      "  '시설포도_정상_정상_잎_과실성숙기': 16,\n",
      "  '시설포도_정상_정상_줄기_과실성숙기': 17,\n",
      "  '시설포도_축과병-2_초기_열매_과실성숙기': 18,\n",
      "  '오이_정상_정상_꽃_생장기': 19,\n",
      "  '오이_정상_정상_꽃_착화/과실기': 20,\n",
      "  '오이_정상_정상_잎_생장기': 21,\n",
      "  '오이_정상_정상_잎_착화/과실기': 22,\n",
      "  '오이_정상_정상_줄기_생장기': 23,\n",
      "  '토마토_정상_정상_열매_착화/과실기': 24,\n",
      "  '토마토_정상_정상_잎_착화/과실기': 25,\n",
      "  '토마토_토마토흰가루병-1_중기_잎_생장기': 26,\n",
      "  '파프리카_다량원소결핍 (K)-2_초기_잎_착화/과실기': 27,\n",
      "  '파프리카_다량원소결핍 (N)-2_초기_잎_착화/과실기': 28,\n",
      "  '파프리카_다량원소결핍 (P)-2_초기_잎_착화/과실기': 29,\n",
      "  '파프리카_정상_정상_꽃_생장기': 30,\n",
      "  '파프리카_정상_정상_열매_착화/과실기': 31,\n",
      "  '파프리카_정상_정상_잎_생장기': 32,\n",
      "  '파프리카_정상_정상_잎_유모기': 33,\n",
      "  '파프리카_정상_정상_줄기_유모기': 34,\n",
      "  '파프리카_칼슘결핍-2_초기_잎_착화/과실기': 35,\n",
      "  '파프리카_파프리카흰가루병-1_말기_잎_착화/과실기': 36,\n",
      "  '파프리카_파프리카흰가루병-1_중기_잎_착화/과실기': 37,\n",
      "  '파프리카_파프리카흰가루병-1_초기_잎_착화/과실기': 38},\n",
      " {0: '고추_고추탄저병-1_중기_열매_착화/과실기',\n",
      "  1: '고추_다량원소결핍 (K)-2_초기_잎_착화/과실기',\n",
      "  2: '고추_다량원소결핍 (N)-2_초기_잎_착화/과실기',\n",
      "  3: '고추_다량원소결핍 (P)-2_초기_잎_유모기',\n",
      "  4: '고추_정상_정상_열매_생장기',\n",
      "  5: '고추_정상_정상_잎_생장기',\n",
      "  6: '딸기_정상_정상_잎_생장기',\n",
      "  7: '딸기_정상_정상_잎_유모기',\n",
      "  8: '시설포도_시설포도노균병-1_중기_잎_과실성숙기',\n",
      "  9: '시설포도_시설포도노균병-1_초기_잎_과실성숙기',\n",
      "  10: '시설포도_시설포도탄저병-1_중기_열매_과실성숙기',\n",
      "  11: '시설포도_시설포도탄저병-1_초기_열매_과실성숙기',\n",
      "  12: '시설포도_일소피해-2_말기_잎_과실성숙기',\n",
      "  13: '시설포도_일소피해-2_초기_잎_과실성숙기',\n",
      "  14: '시설포도_정상_정상_가지_과실성숙기',\n",
      "  15: '시설포도_정상_정상_열매_과실성숙기',\n",
      "  16: '시설포도_정상_정상_잎_과실성숙기',\n",
      "  17: '시설포도_정상_정상_줄기_과실성숙기',\n",
      "  18: '시설포도_축과병-2_초기_열매_과실성숙기',\n",
      "  19: '오이_정상_정상_꽃_생장기',\n",
      "  20: '오이_정상_정상_꽃_착화/과실기',\n",
      "  21: '오이_정상_정상_잎_생장기',\n",
      "  22: '오이_정상_정상_잎_착화/과실기',\n",
      "  23: '오이_정상_정상_줄기_생장기',\n",
      "  24: '토마토_정상_정상_열매_착화/과실기',\n",
      "  25: '토마토_정상_정상_잎_착화/과실기',\n",
      "  26: '토마토_토마토흰가루병-1_중기_잎_생장기',\n",
      "  27: '파프리카_다량원소결핍 (K)-2_초기_잎_착화/과실기',\n",
      "  28: '파프리카_다량원소결핍 (N)-2_초기_잎_착화/과실기',\n",
      "  29: '파프리카_다량원소결핍 (P)-2_초기_잎_착화/과실기',\n",
      "  30: '파프리카_정상_정상_꽃_생장기',\n",
      "  31: '파프리카_정상_정상_열매_착화/과실기',\n",
      "  32: '파프리카_정상_정상_잎_생장기',\n",
      "  33: '파프리카_정상_정상_잎_유모기',\n",
      "  34: '파프리카_정상_정상_줄기_유모기',\n",
      "  35: '파프리카_칼슘결핍-2_초기_잎_착화/과실기',\n",
      "  36: '파프리카_파프리카흰가루병-1_말기_잎_착화/과실기',\n",
      "  37: '파프리카_파프리카흰가루병-1_중기_잎_착화/과실기',\n",
      "  38: '파프리카_파프리카흰가루병-1_초기_잎_착화/과실기'})\n"
     ]
    }
   ],
   "source": [
    "pprint(make_label_encoder_decoder(config['Prepared_Data_Path']))"
   ]
  },
  {
   "cell_type": "code",
   "execution_count": 1,
   "metadata": {},
   "outputs": [],
   "source": [
    "class Rectangle:\n",
    "    count = 0  # 클래스 변수\n",
    " \n",
    "    # 생성자(initializer)\n",
    "    def __init__(self, width, height):\n",
    "        # self.* : 인스턴스변수\n",
    "        self.width = width\n",
    "        self.height = height\n",
    "        Rectangle.count += 1\n",
    " \n",
    "    # 메서드\n",
    "    def calcArea(self):\n",
    "        area = self.width * self.height\n",
    "        return area\n",
    "    \n",
    "    @classmethod\n",
    "    def get_cnt(cls):\n",
    "        print(self.width)\n",
    "        return cls.count"
   ]
  },
  {
   "cell_type": "code",
   "execution_count": 2,
   "metadata": {},
   "outputs": [
    {
     "name": "stdout",
     "output_type": "stream",
     "text": [
      "1 2 3 4\n",
      "2\n"
     ]
    }
   ],
   "source": [
    "a = Rectangle(1,2)\n",
    "b = Rectangle(3,4)\n",
    "print(a.width, a.height, b.width, b.height)\n",
    "print(Rectangle.count)"
   ]
  },
  {
   "cell_type": "code",
   "execution_count": 14,
   "metadata": {},
   "outputs": [
    {
     "name": "stdout",
     "output_type": "stream",
     "text": [
      "2\n",
      "2\n"
     ]
    }
   ],
   "source": [
    "print(Rectangle.count)\n",
    "print(a.count)"
   ]
  },
  {
   "cell_type": "code",
   "execution_count": null,
   "metadata": {},
   "outputs": [],
   "source": []
  }
 ],
 "metadata": {
  "interpreter": {
   "hash": "41dac6b197742934d933ac5beeed27df1f48255da5451d7725efde7c8f37fd42"
  },
  "kernelspec": {
   "display_name": "Python 3.9.7 ('MLops')",
   "language": "python",
   "name": "python3"
  },
  "language_info": {
   "codemirror_mode": {
    "name": "ipython",
    "version": 3
   },
   "file_extension": ".py",
   "mimetype": "text/x-python",
   "name": "python",
   "nbconvert_exporter": "python",
   "pygments_lexer": "ipython3",
   "version": "3.9.7"
  },
  "orig_nbformat": 4
 },
 "nbformat": 4,
 "nbformat_minor": 2
}
